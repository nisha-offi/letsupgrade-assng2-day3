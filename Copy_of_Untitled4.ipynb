{
  "nbformat": 4,
  "nbformat_minor": 0,
  "metadata": {
    "colab": {
      "name": "Copy of Untitled4.ipynb",
      "provenance": [],
      "authorship_tag": "ABX9TyPLU7vFgLsb6Kn+KKwvk0hh",
      "include_colab_link": true
    },
    "kernelspec": {
      "name": "python3",
      "display_name": "Python 3"
    }
  },
  "cells": [
    {
      "cell_type": "markdown",
      "metadata": {
        "id": "view-in-github",
        "colab_type": "text"
      },
      "source": [
        "<a href=\"https://colab.research.google.com/github/nisha-offi/letsupgrade-assng2-day3/blob/master/Copy_of_Untitled4.ipynb\" target=\"_parent\"><img src=\"https://colab.research.google.com/assets/colab-badge.svg\" alt=\"Open In Colab\"/></a>"
      ]
    },
    {
      "cell_type": "code",
      "metadata": {
        "id": "D5gJ4cqQJ-aM",
        "colab_type": "code",
        "colab": {
          "base_uri": "https://localhost:8080/",
          "height": 34
        },
        "outputId": "79545428-220c-429e-b25a-b42cdcce1145"
      },
      "source": [
        "altitude =500\n",
        "if altitude<1000:\n",
        "  print(\"Safe to land\")\n",
        "elif altitude<5000:\n",
        "  print(\"Bring down to 1000\")\n",
        "else:\n",
        "  print(\"Turn Around\")"
      ],
      "execution_count": null,
      "outputs": [
        {
          "output_type": "stream",
          "text": [
            "Safe to land\n"
          ],
          "name": "stdout"
        }
      ]
    },
    {
      "cell_type": "code",
      "metadata": {
        "id": "KMv2sv1oMK1f",
        "colab_type": "code",
        "colab": {
          "base_uri": "https://localhost:8080/",
          "height": 34
        },
        "outputId": "4b1661bb-a177-4a3e-8560-60f7822a8508"
      },
      "source": [
        " altitude =4500\n",
        "if altitude<1000:\n",
        "  print(\"Safe to land\")\n",
        "elif altitude<5000:\n",
        "  print(\"Bring down to 1000\")\n",
        "else:\n",
        "  print(\"Turn Around\")"
      ],
      "execution_count": null,
      "outputs": [
        {
          "output_type": "stream",
          "text": [
            "Bring down to 1000\n"
          ],
          "name": "stdout"
        }
      ]
    },
    {
      "cell_type": "code",
      "metadata": {
        "id": "6_vCI3olMU1j",
        "colab_type": "code",
        "colab": {
          "base_uri": "https://localhost:8080/",
          "height": 34
        },
        "outputId": "f357602a-52b8-43fb-e633-11c917fae33a"
      },
      "source": [
        " altitude =6000\n",
        "if altitude<1000:\n",
        "  print(\"Safe to land\")\n",
        "elif altitude<5000:\n",
        "  print(\"Bring down to 1000\")\n",
        "else:\n",
        "  print(\"Turn Around\")"
      ],
      "execution_count": null,
      "outputs": [
        {
          "output_type": "stream",
          "text": [
            "Turn Around\n"
          ],
          "name": "stdout"
        }
      ]
    }
  ]
}